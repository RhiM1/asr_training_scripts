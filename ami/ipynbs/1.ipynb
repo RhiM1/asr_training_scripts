{
 "cells": [
  {
   "cell_type": "code",
   "execution_count": 1,
   "metadata": {},
   "outputs": [],
   "source": [
    "import numpy as np\n",
    "import torch"
   ]
  },
  {
   "cell_type": "code",
   "execution_count": 2,
   "metadata": {},
   "outputs": [
    {
     "name": "stdout",
     "output_type": "stream",
     "text": [
      "1.ipynb\t\t\t\t ngrams\n",
      "adafactor.py\t\t\t non_iid_dataloader.py\n",
      "attn.npy\t\t\t plain_text\n",
      "attns\t\t\t\t __pycache__\n",
      "checkpoints\t\t\t rubbish_bin\n",
      "conv.flac\t\t\t scripts\n",
      "create_tokenizer\t\t testd.wav\n",
      "cross_attn_exam.ipynb\t\t test.wav\n",
      "eval_1000_ctc.sh\t\t tokenizer_spe_bpe_v1000\n",
      "eval_char_ctc.sh\t\t tokenizer_spe_bpe_v128\n",
      "eval_ctc_h_init.py\t\t tokenizer_spe_char\n",
      "eval_ctc.py\t\t\t tools.py\n",
      "eval_ctc_reuse.py\t\t train_H.py\n",
      "eval_logits\t\t\t train_long_context.sh\n",
      "eval.py\t\t\t\t train.py\n",
      "eval_script_shuffle_test.sh\t train_rand.py\n",
      "eval_sc_small_ctc_cfg.sh\t train_sc_ctc.py\n",
      "eval_small_transducer.sh\t train.sh\n",
      "Hconf_sched_sccrosscontext.json  train_small_ctc_grouped.sh\n",
      "hyps.json\t\t\t train_small_ctc.sh\n",
      "hypst.json\t\t\t train_small_H_ctc.sh\n",
      "log.txt\t\t\t\t train_small_H_ctc_test.sh\n",
      "longcontext.json\t\t train_transducer.py\n",
      "model_utils.py\t\t\t wandb\n"
     ]
    }
   ],
   "source": [
    "!ls"
   ]
  },
  {
   "cell_type": "code",
   "execution_count": 3,
   "metadata": {},
   "outputs": [
    {
     "name": "stderr",
     "output_type": "stream",
     "text": [
      "[NeMo W 2022-09-29 14:02:02 optimizers:55] Apex was not found. Using the lamb or fused_adam optimizer will error out.\n",
      "[NeMo W 2022-09-29 14:02:03 experimental:27] Module <class 'nemo.collections.nlp.data.language_modeling.megatron.megatron_batch_samplers.MegatronPretrainingRandomBatchSampler'> is experimental, not ready for production and is not fully supported. Use at your own risk.\n",
      "[NeMo W 2022-09-29 14:02:04 experimental:27] Module <class 'nemo.collections.nlp.models.text_normalization_as_tagging.thutmose_tagger.ThutmoseTaggerModel'> is experimental, not ready for production and is not fully supported. Use at your own risk.\n"
     ]
    }
   ],
   "source": [
    "import non_iid_dataloader as niiddl\n",
    "import tools"
   ]
  },
  {
   "cell_type": "code",
   "execution_count": 4,
   "metadata": {},
   "outputs": [],
   "source": [
    "from einops import rearrange, repeat, reduce\n",
    "from tqdm import tqdm\n",
    "from lhotse import CutSet\n",
    "from lhotse.cut import Cut\n",
    "from lhotse.utils import Seconds\n",
    "from typing import Optional, Sequence\n",
    "from tools import isfalse, istrue\n",
    "import lhotse"
   ]
  },
  {
   "cell_type": "code",
   "execution_count": 5,
   "metadata": {},
   "outputs": [],
   "source": [
    "corpus = tools.load_corpus()"
   ]
  },
  {
   "cell_type": "code",
   "execution_count": 6,
   "metadata": {},
   "outputs": [],
   "source": [
    "def plain_concat(cuts: Sequence[Cut], gap: Seconds = 0.5, max_duration=None, seperate_speakers=False, concat_cuts=True) -> CutSet:\n",
    "    \"\"\"\n",
    "    A simple concatenation of cuts, maintaining original order.\n",
    "    cuts: a lhotse sequence of cuts\n",
    "    gap: the duration of silence inserted between concatenated cuts.\n",
    "    max_duration: the maximum duration of the concatenated cut (seconds). If None, no limit is applied.\n",
    "    seperate_speakers: whether to include seperate speakers in the same utterance, pass list of speakers to seperate\n",
    "    concat_cuts: whether to concatenate cuts or just join into individual cutsets and return a list of cutsets\n",
    "    \"\"\"\n",
    "    if len(cuts) <= 1:\n",
    "        # Nothing to do.\n",
    "        return CutSet.from_cuts(cuts)\n",
    "    assert isfalse(seperate_speakers) or seperate_speakers.__class__.__name__ == 'list', \"seperate_speakers must be a list of speakers to seperate\" \n",
    " \n",
    "    max_duration = max_duration if max_duration is not None else float('inf')\n",
    "\n",
    "    cutlist = [cuts[0]] if concat_cuts else [[cuts[0]]]\n",
    "    prev_speaker = None if isfalse(seperate_speakers) else seperate_speakers[0]\n",
    "    cur_duration = cuts[0].duration \n",
    "\n",
    "    for i in range(1, len(cuts)):\n",
    "        cut = cuts[i]\n",
    "        cur_speaker = None if isfalse(seperate_speakers) else seperate_speakers[i]\n",
    "\n",
    "        if cur_speaker == prev_speaker and (cur_duration + gap + cut.duration) <= max_duration:\n",
    "            cutlist[-1] = cutlist[-1].pad(cutlist[-1].duration + gap).append(cut) if concat_cuts else cutlist[-1] + [cut]\n",
    "            cur_duration += gap + cut.duration\n",
    "        else:\n",
    "            cutlist.append(cut if concat_cuts else [cut])\n",
    "            cur_duration = cut.duration\n",
    "\n",
    "        prev_speaker = cur_speaker\n",
    "\n",
    "    return [CutSet.from_cuts([cut] if concat_cuts else cut) for cut in cutlist]\n"
   ]
  },
  {
   "cell_type": "code",
   "execution_count": 7,
   "metadata": {},
   "outputs": [],
   "source": [
    "def get_speakers(cut):\n",
    "    return [el.supervisions[0].speaker for el in cut] "
   ]
  },
  {
   "cell_type": "code",
   "execution_count": 8,
   "metadata": {},
   "outputs": [
    {
     "ename": "NameError",
     "evalue": "name 'meetings' is not defined",
     "output_type": "error",
     "traceback": [
      "\u001b[0;31m---------------------------------------------------------------------------\u001b[0m",
      "\u001b[0;31mNameError\u001b[0m                                 Traceback (most recent call last)",
      "\u001b[1;32m/exp/exp1/acp21rjf/deliberation/Custom/ami/1.ipynb Cell 8'\u001b[0m in \u001b[0;36m<cell line: 1>\u001b[0;34m()\u001b[0m\n\u001b[0;32m----> <a href='vscode-notebook-cell://ssh-remote%2Bcassini.dcs.shef.ac.uk/exp/exp1/acp21rjf/deliberation/Custom/ami/1.ipynb#ch0000007vscode-remote?line=0'>1</a>\u001b[0m get_speakers(meetings[(\u001b[39mlist\u001b[39m(meetings\u001b[39m.\u001b[39mkeys())[\u001b[39m0\u001b[39m])])\n",
      "\u001b[0;31mNameError\u001b[0m: name 'meetings' is not defined"
     ]
    }
   ],
   "source": [
    "get_speakers(meetings[(list(meetings.keys())[0])])"
   ]
  },
  {
   "cell_type": "code",
   "execution_count": 13,
   "metadata": {},
   "outputs": [],
   "source": [
    "meetings = niiddl.prepare_partition(corpus['test'])"
   ]
  },
  {
   "cell_type": "code",
   "execution_count": null,
   "metadata": {},
   "outputs": [],
   "source": [
    "sep_speaks = [el.supervisions[0].speaker for el in meetings[(list(meetings.keys())[0])]]"
   ]
  },
  {
   "cell_type": "code",
   "execution_count": null,
   "metadata": {},
   "outputs": [],
   "source": [
    "a = plain_concat(meetings[(list(meetings.keys())[0])], max_duration=25, seperate_speakers=sep_speaks, concat_cuts=False)"
   ]
  },
  {
   "cell_type": "code",
   "execution_count": null,
   "metadata": {},
   "outputs": [
    {
     "data": {
      "text/plain": [
       "[CutSet(len=1) [underlying data type: <class 'dict'>],\n",
       " CutSet(len=2) [underlying data type: <class 'dict'>],\n",
       " CutSet(len=4) [underlying data type: <class 'dict'>],\n",
       " CutSet(len=3) [underlying data type: <class 'dict'>],\n",
       " CutSet(len=1) [underlying data type: <class 'dict'>],\n",
       " CutSet(len=1) [underlying data type: <class 'dict'>],\n",
       " CutSet(len=1) [underlying data type: <class 'dict'>],\n",
       " CutSet(len=1) [underlying data type: <class 'dict'>],\n",
       " CutSet(len=2) [underlying data type: <class 'dict'>],\n",
       " CutSet(len=1) [underlying data type: <class 'dict'>],\n",
       " CutSet(len=1) [underlying data type: <class 'dict'>],\n",
       " CutSet(len=3) [underlying data type: <class 'dict'>],\n",
       " CutSet(len=4) [underlying data type: <class 'dict'>],\n",
       " CutSet(len=1) [underlying data type: <class 'dict'>],\n",
       " CutSet(len=2) [underlying data type: <class 'dict'>],\n",
       " CutSet(len=1) [underlying data type: <class 'dict'>],\n",
       " CutSet(len=1) [underlying data type: <class 'dict'>],\n",
       " CutSet(len=2) [underlying data type: <class 'dict'>],\n",
       " CutSet(len=4) [underlying data type: <class 'dict'>],\n",
       " CutSet(len=2) [underlying data type: <class 'dict'>],\n",
       " CutSet(len=2) [underlying data type: <class 'dict'>],\n",
       " CutSet(len=2) [underlying data type: <class 'dict'>],\n",
       " CutSet(len=1) [underlying data type: <class 'dict'>],\n",
       " CutSet(len=4) [underlying data type: <class 'dict'>],\n",
       " CutSet(len=3) [underlying data type: <class 'dict'>],\n",
       " CutSet(len=3) [underlying data type: <class 'dict'>],\n",
       " CutSet(len=2) [underlying data type: <class 'dict'>],\n",
       " CutSet(len=5) [underlying data type: <class 'dict'>],\n",
       " CutSet(len=4) [underlying data type: <class 'dict'>],\n",
       " CutSet(len=5) [underlying data type: <class 'dict'>],\n",
       " CutSet(len=1) [underlying data type: <class 'dict'>],\n",
       " CutSet(len=3) [underlying data type: <class 'dict'>],\n",
       " CutSet(len=3) [underlying data type: <class 'dict'>],\n",
       " CutSet(len=2) [underlying data type: <class 'dict'>],\n",
       " CutSet(len=3) [underlying data type: <class 'dict'>],\n",
       " CutSet(len=1) [underlying data type: <class 'dict'>],\n",
       " CutSet(len=1) [underlying data type: <class 'dict'>],\n",
       " CutSet(len=1) [underlying data type: <class 'dict'>],\n",
       " CutSet(len=1) [underlying data type: <class 'dict'>],\n",
       " CutSet(len=1) [underlying data type: <class 'dict'>],\n",
       " CutSet(len=1) [underlying data type: <class 'dict'>],\n",
       " CutSet(len=1) [underlying data type: <class 'dict'>],\n",
       " CutSet(len=1) [underlying data type: <class 'dict'>],\n",
       " CutSet(len=2) [underlying data type: <class 'dict'>],\n",
       " CutSet(len=1) [underlying data type: <class 'dict'>],\n",
       " CutSet(len=1) [underlying data type: <class 'dict'>],\n",
       " CutSet(len=2) [underlying data type: <class 'dict'>],\n",
       " CutSet(len=2) [underlying data type: <class 'dict'>],\n",
       " CutSet(len=1) [underlying data type: <class 'dict'>],\n",
       " CutSet(len=1) [underlying data type: <class 'dict'>],\n",
       " CutSet(len=1) [underlying data type: <class 'dict'>],\n",
       " CutSet(len=1) [underlying data type: <class 'dict'>],\n",
       " CutSet(len=1) [underlying data type: <class 'dict'>],\n",
       " CutSet(len=4) [underlying data type: <class 'dict'>],\n",
       " CutSet(len=4) [underlying data type: <class 'dict'>],\n",
       " CutSet(len=3) [underlying data type: <class 'dict'>],\n",
       " CutSet(len=1) [underlying data type: <class 'dict'>],\n",
       " CutSet(len=1) [underlying data type: <class 'dict'>],\n",
       " CutSet(len=1) [underlying data type: <class 'dict'>],\n",
       " CutSet(len=2) [underlying data type: <class 'dict'>],\n",
       " CutSet(len=1) [underlying data type: <class 'dict'>],\n",
       " CutSet(len=4) [underlying data type: <class 'dict'>],\n",
       " CutSet(len=3) [underlying data type: <class 'dict'>],\n",
       " CutSet(len=1) [underlying data type: <class 'dict'>],\n",
       " CutSet(len=4) [underlying data type: <class 'dict'>],\n",
       " CutSet(len=4) [underlying data type: <class 'dict'>],\n",
       " CutSet(len=2) [underlying data type: <class 'dict'>],\n",
       " CutSet(len=2) [underlying data type: <class 'dict'>],\n",
       " CutSet(len=4) [underlying data type: <class 'dict'>],\n",
       " CutSet(len=1) [underlying data type: <class 'dict'>],\n",
       " CutSet(len=1) [underlying data type: <class 'dict'>],\n",
       " CutSet(len=2) [underlying data type: <class 'dict'>],\n",
       " CutSet(len=1) [underlying data type: <class 'dict'>],\n",
       " CutSet(len=1) [underlying data type: <class 'dict'>],\n",
       " CutSet(len=2) [underlying data type: <class 'dict'>],\n",
       " CutSet(len=1) [underlying data type: <class 'dict'>],\n",
       " CutSet(len=1) [underlying data type: <class 'dict'>],\n",
       " CutSet(len=3) [underlying data type: <class 'dict'>],\n",
       " CutSet(len=2) [underlying data type: <class 'dict'>],\n",
       " CutSet(len=1) [underlying data type: <class 'dict'>],\n",
       " CutSet(len=1) [underlying data type: <class 'dict'>],\n",
       " CutSet(len=1) [underlying data type: <class 'dict'>],\n",
       " CutSet(len=1) [underlying data type: <class 'dict'>],\n",
       " CutSet(len=1) [underlying data type: <class 'dict'>],\n",
       " CutSet(len=1) [underlying data type: <class 'dict'>],\n",
       " CutSet(len=1) [underlying data type: <class 'dict'>],\n",
       " CutSet(len=2) [underlying data type: <class 'dict'>],\n",
       " CutSet(len=1) [underlying data type: <class 'dict'>],\n",
       " CutSet(len=1) [underlying data type: <class 'dict'>],\n",
       " CutSet(len=1) [underlying data type: <class 'dict'>],\n",
       " CutSet(len=1) [underlying data type: <class 'dict'>],\n",
       " CutSet(len=1) [underlying data type: <class 'dict'>],\n",
       " CutSet(len=2) [underlying data type: <class 'dict'>],\n",
       " CutSet(len=1) [underlying data type: <class 'dict'>],\n",
       " CutSet(len=1) [underlying data type: <class 'dict'>],\n",
       " CutSet(len=1) [underlying data type: <class 'dict'>],\n",
       " CutSet(len=4) [underlying data type: <class 'dict'>],\n",
       " CutSet(len=4) [underlying data type: <class 'dict'>],\n",
       " CutSet(len=3) [underlying data type: <class 'dict'>],\n",
       " CutSet(len=3) [underlying data type: <class 'dict'>],\n",
       " CutSet(len=3) [underlying data type: <class 'dict'>],\n",
       " CutSet(len=2) [underlying data type: <class 'dict'>],\n",
       " CutSet(len=1) [underlying data type: <class 'dict'>],\n",
       " CutSet(len=3) [underlying data type: <class 'dict'>],\n",
       " CutSet(len=1) [underlying data type: <class 'dict'>],\n",
       " CutSet(len=1) [underlying data type: <class 'dict'>],\n",
       " CutSet(len=1) [underlying data type: <class 'dict'>],\n",
       " CutSet(len=3) [underlying data type: <class 'dict'>],\n",
       " CutSet(len=1) [underlying data type: <class 'dict'>],\n",
       " CutSet(len=2) [underlying data type: <class 'dict'>],\n",
       " CutSet(len=1) [underlying data type: <class 'dict'>],\n",
       " CutSet(len=3) [underlying data type: <class 'dict'>],\n",
       " CutSet(len=1) [underlying data type: <class 'dict'>],\n",
       " CutSet(len=2) [underlying data type: <class 'dict'>],\n",
       " CutSet(len=2) [underlying data type: <class 'dict'>],\n",
       " CutSet(len=1) [underlying data type: <class 'dict'>],\n",
       " CutSet(len=1) [underlying data type: <class 'dict'>],\n",
       " CutSet(len=3) [underlying data type: <class 'dict'>],\n",
       " CutSet(len=5) [underlying data type: <class 'dict'>],\n",
       " CutSet(len=1) [underlying data type: <class 'dict'>],\n",
       " CutSet(len=1) [underlying data type: <class 'dict'>],\n",
       " CutSet(len=2) [underlying data type: <class 'dict'>],\n",
       " CutSet(len=2) [underlying data type: <class 'dict'>],\n",
       " CutSet(len=1) [underlying data type: <class 'dict'>],\n",
       " CutSet(len=3) [underlying data type: <class 'dict'>],\n",
       " CutSet(len=1) [underlying data type: <class 'dict'>],\n",
       " CutSet(len=2) [underlying data type: <class 'dict'>],\n",
       " CutSet(len=1) [underlying data type: <class 'dict'>],\n",
       " CutSet(len=1) [underlying data type: <class 'dict'>],\n",
       " CutSet(len=1) [underlying data type: <class 'dict'>],\n",
       " CutSet(len=1) [underlying data type: <class 'dict'>],\n",
       " CutSet(len=3) [underlying data type: <class 'dict'>],\n",
       " CutSet(len=1) [underlying data type: <class 'dict'>],\n",
       " CutSet(len=1) [underlying data type: <class 'dict'>],\n",
       " CutSet(len=1) [underlying data type: <class 'dict'>],\n",
       " CutSet(len=1) [underlying data type: <class 'dict'>],\n",
       " CutSet(len=1) [underlying data type: <class 'dict'>],\n",
       " CutSet(len=2) [underlying data type: <class 'dict'>],\n",
       " CutSet(len=3) [underlying data type: <class 'dict'>],\n",
       " CutSet(len=1) [underlying data type: <class 'dict'>],\n",
       " CutSet(len=2) [underlying data type: <class 'dict'>],\n",
       " CutSet(len=2) [underlying data type: <class 'dict'>],\n",
       " CutSet(len=1) [underlying data type: <class 'dict'>],\n",
       " CutSet(len=2) [underlying data type: <class 'dict'>],\n",
       " CutSet(len=1) [underlying data type: <class 'dict'>],\n",
       " CutSet(len=3) [underlying data type: <class 'dict'>],\n",
       " CutSet(len=4) [underlying data type: <class 'dict'>],\n",
       " CutSet(len=1) [underlying data type: <class 'dict'>],\n",
       " CutSet(len=2) [underlying data type: <class 'dict'>],\n",
       " CutSet(len=1) [underlying data type: <class 'dict'>],\n",
       " CutSet(len=1) [underlying data type: <class 'dict'>],\n",
       " CutSet(len=1) [underlying data type: <class 'dict'>],\n",
       " CutSet(len=1) [underlying data type: <class 'dict'>],\n",
       " CutSet(len=1) [underlying data type: <class 'dict'>],\n",
       " CutSet(len=1) [underlying data type: <class 'dict'>],\n",
       " CutSet(len=1) [underlying data type: <class 'dict'>],\n",
       " CutSet(len=1) [underlying data type: <class 'dict'>],\n",
       " CutSet(len=1) [underlying data type: <class 'dict'>],\n",
       " CutSet(len=1) [underlying data type: <class 'dict'>],\n",
       " CutSet(len=1) [underlying data type: <class 'dict'>],\n",
       " CutSet(len=2) [underlying data type: <class 'dict'>],\n",
       " CutSet(len=1) [underlying data type: <class 'dict'>],\n",
       " CutSet(len=1) [underlying data type: <class 'dict'>],\n",
       " CutSet(len=3) [underlying data type: <class 'dict'>],\n",
       " CutSet(len=1) [underlying data type: <class 'dict'>],\n",
       " CutSet(len=1) [underlying data type: <class 'dict'>],\n",
       " CutSet(len=1) [underlying data type: <class 'dict'>],\n",
       " CutSet(len=1) [underlying data type: <class 'dict'>],\n",
       " CutSet(len=1) [underlying data type: <class 'dict'>],\n",
       " CutSet(len=1) [underlying data type: <class 'dict'>],\n",
       " CutSet(len=1) [underlying data type: <class 'dict'>],\n",
       " CutSet(len=1) [underlying data type: <class 'dict'>],\n",
       " CutSet(len=1) [underlying data type: <class 'dict'>],\n",
       " CutSet(len=1) [underlying data type: <class 'dict'>],\n",
       " CutSet(len=1) [underlying data type: <class 'dict'>],\n",
       " CutSet(len=3) [underlying data type: <class 'dict'>],\n",
       " CutSet(len=1) [underlying data type: <class 'dict'>],\n",
       " CutSet(len=1) [underlying data type: <class 'dict'>],\n",
       " CutSet(len=1) [underlying data type: <class 'dict'>],\n",
       " CutSet(len=1) [underlying data type: <class 'dict'>],\n",
       " CutSet(len=1) [underlying data type: <class 'dict'>],\n",
       " CutSet(len=2) [underlying data type: <class 'dict'>],\n",
       " CutSet(len=2) [underlying data type: <class 'dict'>],\n",
       " CutSet(len=1) [underlying data type: <class 'dict'>],\n",
       " CutSet(len=5) [underlying data type: <class 'dict'>],\n",
       " CutSet(len=1) [underlying data type: <class 'dict'>],\n",
       " CutSet(len=1) [underlying data type: <class 'dict'>],\n",
       " CutSet(len=1) [underlying data type: <class 'dict'>],\n",
       " CutSet(len=1) [underlying data type: <class 'dict'>],\n",
       " CutSet(len=1) [underlying data type: <class 'dict'>],\n",
       " CutSet(len=2) [underlying data type: <class 'dict'>],\n",
       " CutSet(len=1) [underlying data type: <class 'dict'>],\n",
       " CutSet(len=1) [underlying data type: <class 'dict'>],\n",
       " CutSet(len=1) [underlying data type: <class 'dict'>],\n",
       " CutSet(len=1) [underlying data type: <class 'dict'>],\n",
       " CutSet(len=1) [underlying data type: <class 'dict'>],\n",
       " CutSet(len=3) [underlying data type: <class 'dict'>],\n",
       " CutSet(len=1) [underlying data type: <class 'dict'>],\n",
       " CutSet(len=1) [underlying data type: <class 'dict'>],\n",
       " CutSet(len=1) [underlying data type: <class 'dict'>],\n",
       " CutSet(len=1) [underlying data type: <class 'dict'>],\n",
       " CutSet(len=1) [underlying data type: <class 'dict'>],\n",
       " CutSet(len=1) [underlying data type: <class 'dict'>],\n",
       " CutSet(len=2) [underlying data type: <class 'dict'>],\n",
       " CutSet(len=1) [underlying data type: <class 'dict'>],\n",
       " CutSet(len=1) [underlying data type: <class 'dict'>],\n",
       " CutSet(len=1) [underlying data type: <class 'dict'>],\n",
       " CutSet(len=1) [underlying data type: <class 'dict'>],\n",
       " CutSet(len=1) [underlying data type: <class 'dict'>],\n",
       " CutSet(len=1) [underlying data type: <class 'dict'>],\n",
       " CutSet(len=1) [underlying data type: <class 'dict'>],\n",
       " CutSet(len=2) [underlying data type: <class 'dict'>],\n",
       " CutSet(len=2) [underlying data type: <class 'dict'>],\n",
       " CutSet(len=1) [underlying data type: <class 'dict'>],\n",
       " CutSet(len=1) [underlying data type: <class 'dict'>],\n",
       " CutSet(len=3) [underlying data type: <class 'dict'>],\n",
       " CutSet(len=5) [underlying data type: <class 'dict'>],\n",
       " CutSet(len=1) [underlying data type: <class 'dict'>],\n",
       " CutSet(len=1) [underlying data type: <class 'dict'>],\n",
       " CutSet(len=1) [underlying data type: <class 'dict'>],\n",
       " CutSet(len=1) [underlying data type: <class 'dict'>],\n",
       " CutSet(len=1) [underlying data type: <class 'dict'>],\n",
       " CutSet(len=1) [underlying data type: <class 'dict'>],\n",
       " CutSet(len=1) [underlying data type: <class 'dict'>],\n",
       " CutSet(len=2) [underlying data type: <class 'dict'>],\n",
       " CutSet(len=1) [underlying data type: <class 'dict'>],\n",
       " CutSet(len=1) [underlying data type: <class 'dict'>],\n",
       " CutSet(len=1) [underlying data type: <class 'dict'>],\n",
       " CutSet(len=1) [underlying data type: <class 'dict'>],\n",
       " CutSet(len=1) [underlying data type: <class 'dict'>],\n",
       " CutSet(len=1) [underlying data type: <class 'dict'>],\n",
       " CutSet(len=2) [underlying data type: <class 'dict'>],\n",
       " CutSet(len=1) [underlying data type: <class 'dict'>],\n",
       " CutSet(len=1) [underlying data type: <class 'dict'>],\n",
       " CutSet(len=1) [underlying data type: <class 'dict'>],\n",
       " CutSet(len=1) [underlying data type: <class 'dict'>],\n",
       " CutSet(len=1) [underlying data type: <class 'dict'>],\n",
       " CutSet(len=1) [underlying data type: <class 'dict'>],\n",
       " CutSet(len=1) [underlying data type: <class 'dict'>],\n",
       " CutSet(len=1) [underlying data type: <class 'dict'>],\n",
       " CutSet(len=1) [underlying data type: <class 'dict'>],\n",
       " CutSet(len=2) [underlying data type: <class 'dict'>],\n",
       " CutSet(len=1) [underlying data type: <class 'dict'>],\n",
       " CutSet(len=1) [underlying data type: <class 'dict'>],\n",
       " CutSet(len=1) [underlying data type: <class 'dict'>],\n",
       " CutSet(len=1) [underlying data type: <class 'dict'>],\n",
       " CutSet(len=1) [underlying data type: <class 'dict'>],\n",
       " CutSet(len=3) [underlying data type: <class 'dict'>],\n",
       " CutSet(len=2) [underlying data type: <class 'dict'>],\n",
       " CutSet(len=1) [underlying data type: <class 'dict'>],\n",
       " CutSet(len=1) [underlying data type: <class 'dict'>],\n",
       " CutSet(len=1) [underlying data type: <class 'dict'>],\n",
       " CutSet(len=2) [underlying data type: <class 'dict'>],\n",
       " CutSet(len=1) [underlying data type: <class 'dict'>],\n",
       " CutSet(len=1) [underlying data type: <class 'dict'>],\n",
       " CutSet(len=1) [underlying data type: <class 'dict'>],\n",
       " CutSet(len=1) [underlying data type: <class 'dict'>],\n",
       " CutSet(len=1) [underlying data type: <class 'dict'>],\n",
       " CutSet(len=1) [underlying data type: <class 'dict'>],\n",
       " CutSet(len=1) [underlying data type: <class 'dict'>],\n",
       " CutSet(len=1) [underlying data type: <class 'dict'>],\n",
       " CutSet(len=1) [underlying data type: <class 'dict'>],\n",
       " CutSet(len=1) [underlying data type: <class 'dict'>],\n",
       " CutSet(len=2) [underlying data type: <class 'dict'>],\n",
       " CutSet(len=1) [underlying data type: <class 'dict'>],\n",
       " CutSet(len=1) [underlying data type: <class 'dict'>],\n",
       " CutSet(len=2) [underlying data type: <class 'dict'>],\n",
       " CutSet(len=1) [underlying data type: <class 'dict'>],\n",
       " CutSet(len=2) [underlying data type: <class 'dict'>],\n",
       " CutSet(len=1) [underlying data type: <class 'dict'>],\n",
       " CutSet(len=1) [underlying data type: <class 'dict'>],\n",
       " CutSet(len=1) [underlying data type: <class 'dict'>],\n",
       " CutSet(len=1) [underlying data type: <class 'dict'>],\n",
       " CutSet(len=1) [underlying data type: <class 'dict'>],\n",
       " CutSet(len=1) [underlying data type: <class 'dict'>],\n",
       " CutSet(len=1) [underlying data type: <class 'dict'>],\n",
       " CutSet(len=1) [underlying data type: <class 'dict'>],\n",
       " CutSet(len=1) [underlying data type: <class 'dict'>],\n",
       " CutSet(len=2) [underlying data type: <class 'dict'>],\n",
       " CutSet(len=1) [underlying data type: <class 'dict'>],\n",
       " CutSet(len=1) [underlying data type: <class 'dict'>],\n",
       " CutSet(len=1) [underlying data type: <class 'dict'>],\n",
       " CutSet(len=1) [underlying data type: <class 'dict'>],\n",
       " CutSet(len=1) [underlying data type: <class 'dict'>],\n",
       " CutSet(len=3) [underlying data type: <class 'dict'>],\n",
       " CutSet(len=1) [underlying data type: <class 'dict'>],\n",
       " CutSet(len=1) [underlying data type: <class 'dict'>],\n",
       " CutSet(len=1) [underlying data type: <class 'dict'>],\n",
       " CutSet(len=1) [underlying data type: <class 'dict'>],\n",
       " CutSet(len=1) [underlying data type: <class 'dict'>],\n",
       " CutSet(len=1) [underlying data type: <class 'dict'>],\n",
       " CutSet(len=1) [underlying data type: <class 'dict'>],\n",
       " CutSet(len=1) [underlying data type: <class 'dict'>],\n",
       " CutSet(len=1) [underlying data type: <class 'dict'>],\n",
       " CutSet(len=1) [underlying data type: <class 'dict'>],\n",
       " CutSet(len=1) [underlying data type: <class 'dict'>],\n",
       " CutSet(len=1) [underlying data type: <class 'dict'>],\n",
       " CutSet(len=2) [underlying data type: <class 'dict'>],\n",
       " CutSet(len=4) [underlying data type: <class 'dict'>],\n",
       " CutSet(len=6) [underlying data type: <class 'dict'>],\n",
       " CutSet(len=1) [underlying data type: <class 'dict'>],\n",
       " CutSet(len=1) [underlying data type: <class 'dict'>],\n",
       " CutSet(len=1) [underlying data type: <class 'dict'>],\n",
       " CutSet(len=1) [underlying data type: <class 'dict'>],\n",
       " CutSet(len=2) [underlying data type: <class 'dict'>],\n",
       " CutSet(len=3) [underlying data type: <class 'dict'>],\n",
       " CutSet(len=1) [underlying data type: <class 'dict'>],\n",
       " CutSet(len=1) [underlying data type: <class 'dict'>],\n",
       " CutSet(len=1) [underlying data type: <class 'dict'>],\n",
       " CutSet(len=1) [underlying data type: <class 'dict'>],\n",
       " CutSet(len=1) [underlying data type: <class 'dict'>],\n",
       " CutSet(len=1) [underlying data type: <class 'dict'>],\n",
       " CutSet(len=1) [underlying data type: <class 'dict'>],\n",
       " CutSet(len=1) [underlying data type: <class 'dict'>],\n",
       " CutSet(len=1) [underlying data type: <class 'dict'>],\n",
       " CutSet(len=1) [underlying data type: <class 'dict'>],\n",
       " CutSet(len=2) [underlying data type: <class 'dict'>],\n",
       " CutSet(len=1) [underlying data type: <class 'dict'>],\n",
       " CutSet(len=1) [underlying data type: <class 'dict'>],\n",
       " CutSet(len=1) [underlying data type: <class 'dict'>],\n",
       " CutSet(len=2) [underlying data type: <class 'dict'>],\n",
       " CutSet(len=1) [underlying data type: <class 'dict'>],\n",
       " CutSet(len=1) [underlying data type: <class 'dict'>],\n",
       " CutSet(len=1) [underlying data type: <class 'dict'>],\n",
       " CutSet(len=1) [underlying data type: <class 'dict'>],\n",
       " CutSet(len=1) [underlying data type: <class 'dict'>],\n",
       " CutSet(len=1) [underlying data type: <class 'dict'>],\n",
       " CutSet(len=1) [underlying data type: <class 'dict'>],\n",
       " CutSet(len=1) [underlying data type: <class 'dict'>],\n",
       " CutSet(len=1) [underlying data type: <class 'dict'>],\n",
       " CutSet(len=1) [underlying data type: <class 'dict'>],\n",
       " CutSet(len=1) [underlying data type: <class 'dict'>],\n",
       " CutSet(len=1) [underlying data type: <class 'dict'>],\n",
       " CutSet(len=1) [underlying data type: <class 'dict'>],\n",
       " CutSet(len=1) [underlying data type: <class 'dict'>],\n",
       " CutSet(len=1) [underlying data type: <class 'dict'>],\n",
       " CutSet(len=1) [underlying data type: <class 'dict'>],\n",
       " CutSet(len=1) [underlying data type: <class 'dict'>],\n",
       " CutSet(len=1) [underlying data type: <class 'dict'>],\n",
       " CutSet(len=2) [underlying data type: <class 'dict'>],\n",
       " CutSet(len=1) [underlying data type: <class 'dict'>],\n",
       " CutSet(len=1) [underlying data type: <class 'dict'>],\n",
       " CutSet(len=1) [underlying data type: <class 'dict'>],\n",
       " CutSet(len=1) [underlying data type: <class 'dict'>],\n",
       " CutSet(len=1) [underlying data type: <class 'dict'>],\n",
       " CutSet(len=1) [underlying data type: <class 'dict'>],\n",
       " CutSet(len=3) [underlying data type: <class 'dict'>],\n",
       " CutSet(len=3) [underlying data type: <class 'dict'>],\n",
       " CutSet(len=1) [underlying data type: <class 'dict'>],\n",
       " CutSet(len=1) [underlying data type: <class 'dict'>],\n",
       " CutSet(len=1) [underlying data type: <class 'dict'>],\n",
       " CutSet(len=1) [underlying data type: <class 'dict'>],\n",
       " CutSet(len=1) [underlying data type: <class 'dict'>],\n",
       " CutSet(len=1) [underlying data type: <class 'dict'>]]"
      ]
     },
     "execution_count": 12,
     "metadata": {},
     "output_type": "execute_result"
    }
   ],
   "source": [
    "a"
   ]
  },
  {
   "cell_type": "code",
   "execution_count": null,
   "metadata": {},
   "outputs": [
    {
     "data": {
      "text/plain": [
       "CutSet(len=2) [underlying data type: <class 'dict'>]"
      ]
     },
     "execution_count": 13,
     "metadata": {},
     "output_type": "execute_result"
    }
   ],
   "source": [
    "lhotse.CutSet.from_cuts(meetings[(list(meetings.keys())[0])][0:2])"
   ]
  },
  {
   "cell_type": "code",
   "execution_count": 9,
   "metadata": {},
   "outputs": [
    {
     "ename": "NameError",
     "evalue": "name 'a' is not defined",
     "output_type": "error",
     "traceback": [
      "\u001b[0;31m---------------------------------------------------------------------------\u001b[0m",
      "\u001b[0;31mNameError\u001b[0m                                 Traceback (most recent call last)",
      "\u001b[1;32m/exp/exp1/acp21rjf/deliberation/Custom/ami/1.ipynb Cell 14'\u001b[0m in \u001b[0;36m<cell line: 1>\u001b[0;34m()\u001b[0m\n\u001b[0;32m----> <a href='vscode-notebook-cell://ssh-remote%2Bcassini.dcs.shef.ac.uk/exp/exp1/acp21rjf/deliberation/Custom/ami/1.ipynb#ch0000013vscode-remote?line=0'>1</a>\u001b[0m lhotse\u001b[39m.\u001b[39mCutSet\u001b[39m.\u001b[39mfrom_cuts([a[\u001b[39m0\u001b[39m], a[\u001b[39m1\u001b[39m]])\n",
      "\u001b[0;31mNameError\u001b[0m: name 'a' is not defined"
     ]
    }
   ],
   "source": [
    "lhotse.CutSet.from_cuts([a[0], a[1]])"
   ]
  },
  {
   "cell_type": "code",
   "execution_count": 10,
   "metadata": {},
   "outputs": [
    {
     "ename": "NameError",
     "evalue": "name 'utts' is not defined",
     "output_type": "error",
     "traceback": [
      "\u001b[0;31m---------------------------------------------------------------------------\u001b[0m",
      "\u001b[0;31mNameError\u001b[0m                                 Traceback (most recent call last)",
      "\u001b[1;32m/exp/exp1/acp21rjf/deliberation/Custom/ami/1.ipynb Cell 26'\u001b[0m in \u001b[0;36m<cell line: 1>\u001b[0;34m()\u001b[0m\n\u001b[0;32m----> <a href='vscode-notebook-cell://ssh-remote%2Bcassini.dcs.shef.ac.uk/exp/exp1/acp21rjf/deliberation/Custom/ami/1.ipynb#ch0000025vscode-remote?line=0'>1</a>\u001b[0m utts\n",
      "\u001b[0;31mNameError\u001b[0m: name 'utts' is not defined"
     ]
    }
   ],
   "source": [
    "utts"
   ]
  },
  {
   "cell_type": "code",
   "execution_count": 11,
   "metadata": {},
   "outputs": [
    {
     "ename": "NameError",
     "evalue": "name 'utts' is not defined",
     "output_type": "error",
     "traceback": [
      "\u001b[0;31m---------------------------------------------------------------------------\u001b[0m",
      "\u001b[0;31mNameError\u001b[0m                                 Traceback (most recent call last)",
      "\u001b[1;32m/exp/exp1/acp21rjf/deliberation/Custom/ami/1.ipynb Cell 16'\u001b[0m in \u001b[0;36m<cell line: 1>\u001b[0;34m()\u001b[0m\n\u001b[0;32m----> <a href='vscode-notebook-cell://ssh-remote%2Bcassini.dcs.shef.ac.uk/exp/exp1/acp21rjf/deliberation/Custom/ami/1.ipynb#ch0000015vscode-remote?line=0'>1</a>\u001b[0m np\u001b[39m.\u001b[39marray([el\u001b[39m.\u001b[39mduration \u001b[39mfor\u001b[39;00m el \u001b[39min\u001b[39;00m utts])\u001b[39m.\u001b[39mmean()\n",
      "\u001b[0;31mNameError\u001b[0m: name 'utts' is not defined"
     ]
    }
   ],
   "source": [
    "np.array([el.duration for el in utts]).mean()"
   ]
  },
  {
   "cell_type": "code",
   "execution_count": 71,
   "metadata": {},
   "outputs": [],
   "source": [
    "samples = niiddl.prepare_samples(meetings, max_duration=60, concat_samples=True, split_speakers=True)"
   ]
  },
  {
   "cell_type": "code",
   "execution_count": 108,
   "metadata": {},
   "outputs": [
    {
     "data": {
      "text/plain": [
       "52.881"
      ]
     },
     "execution_count": 108,
     "metadata": {},
     "output_type": "execute_result"
    }
   ],
   "source": [
    "samples[15][0].load_audio().squeeze().shape[0] /16000"
   ]
  },
  {
   "cell_type": "code",
   "execution_count": 107,
   "metadata": {},
   "outputs": [
    {
     "data": {
      "text/plain": [
       "[\"'kay my name is freek van ponnen i'm the market expert but you already knew that\",\n",
       " \"um i've done some research we have we uh have been doing research in a usability lab where we observed\",\n",
       " 'um users operating remote controls uh we let them fill out a questionnaire',\n",
       " 'we had one hundred of these uh test subjects',\n",
       " 'uh in addition we did some market research uh see what the market consists of what ages are involved',\n",
       " 'well these are three quite astonishing results i thought um remotes are being considered ugly f uh seventy five percent of the um',\n",
       " 'people questioned uh indicated that they thought their remote were was ugly um and an additional eighty percent indicated that they would spend more money on a fancy looking remote control so']"
      ]
     },
     "execution_count": 107,
     "metadata": {},
     "output_type": "execute_result"
    }
   ],
   "source": [
    "[el.text for el in samples[15][0].supervisions]"
   ]
  },
  {
   "cell_type": "code",
   "execution_count": 109,
   "metadata": {},
   "outputs": [],
   "source": [
    "import soundfile as sf\n",
    "sf.write('test.wav', samples[15][0].load_audio().squeeze()*10, 16000)"
   ]
  },
  {
   "cell_type": "code",
   "execution_count": 99,
   "metadata": {},
   "outputs": [
    {
     "ename": "StopIteration",
     "evalue": "",
     "output_type": "error",
     "traceback": [
      "\u001b[0;31m---------------------------------------------------------------------------\u001b[0m",
      "\u001b[0;31mStopIteration\u001b[0m                             Traceback (most recent call last)",
      "\u001b[1;32m/exp/exp1/acp21rjf/deliberation/Custom/ami/1.ipynb Cell 21'\u001b[0m in \u001b[0;36m<cell line: 1>\u001b[0;34m()\u001b[0m\n\u001b[0;32m----> <a href='vscode-notebook-cell://ssh-remote%2Bcassini.dcs.shef.ac.uk/exp/exp1/acp21rjf/deliberation/Custom/ami/1.ipynb#ch0000017vscode-remote?line=0'>1</a>\u001b[0m np\u001b[39m.\u001b[39marray([el[\u001b[39m10\u001b[39m]\u001b[39m.\u001b[39mduration \u001b[39mfor\u001b[39;00m el \u001b[39min\u001b[39;00m samples])\u001b[39m.\u001b[39mmax()\n",
      "\u001b[1;32m/exp/exp1/acp21rjf/deliberation/Custom/ami/1.ipynb Cell 21'\u001b[0m in \u001b[0;36m<listcomp>\u001b[0;34m(.0)\u001b[0m\n\u001b[0;32m----> <a href='vscode-notebook-cell://ssh-remote%2Bcassini.dcs.shef.ac.uk/exp/exp1/acp21rjf/deliberation/Custom/ami/1.ipynb#ch0000017vscode-remote?line=0'>1</a>\u001b[0m np\u001b[39m.\u001b[39marray([el[\u001b[39m10\u001b[39;49m]\u001b[39m.\u001b[39mduration \u001b[39mfor\u001b[39;00m el \u001b[39min\u001b[39;00m samples])\u001b[39m.\u001b[39mmax()\n",
      "File \u001b[0;32m/exp/exp1/acp21rjf/lhotse/lhotse/cut.py:5214\u001b[0m, in \u001b[0;36mCutSet.__getitem__\u001b[0;34m(self, cut_id_or_index)\u001b[0m\n\u001b[1;32m   5212\u001b[0m     \u001b[39mreturn\u001b[39;00m \u001b[39mself\u001b[39m\u001b[39m.\u001b[39mcuts[cut_id_or_index]\n\u001b[1;32m   5213\u001b[0m \u001b[39m# ~100x faster than list(dict.values())[index] for 100k elements\u001b[39;00m\n\u001b[0;32m-> 5214\u001b[0m \u001b[39mreturn\u001b[39;00m \u001b[39mnext\u001b[39;49m(\n\u001b[1;32m   5215\u001b[0m     val \u001b[39mfor\u001b[39;49;00m idx, val \u001b[39min\u001b[39;49;00m \u001b[39menumerate\u001b[39;49m(\u001b[39mself\u001b[39;49m\u001b[39m.\u001b[39;49mcuts\u001b[39m.\u001b[39;49mvalues()) \u001b[39mif\u001b[39;49;00m idx \u001b[39m==\u001b[39;49m cut_id_or_index\n\u001b[1;32m   5216\u001b[0m )\n",
      "\u001b[0;31mStopIteration\u001b[0m: "
     ]
    }
   ],
   "source": [
    "np.array([el[10].duration for el in samples]).max()"
   ]
  },
  {
   "cell_type": "code",
   "execution_count": 410,
   "metadata": {},
   "outputs": [
    {
     "data": {
      "text/plain": [
       "6.54"
      ]
     },
     "execution_count": 410,
     "metadata": {},
     "output_type": "execute_result"
    }
   ],
   "source": [
    "meetings[(list(meetings.keys())[0])][5].duration"
   ]
  },
  {
   "cell_type": "code",
   "execution_count": 8,
   "metadata": {},
   "outputs": [
    {
     "data": {
      "text/plain": [
       "'MTD012ME'"
      ]
     },
     "execution_count": 8,
     "metadata": {},
     "output_type": "execute_result"
    }
   ],
   "source": [
    "samples[0][1].supervisions[0].speaker"
   ]
  },
  {
   "cell_type": "code",
   "execution_count": 23,
   "metadata": {},
   "outputs": [
    {
     "data": {
      "text/plain": [
       "CutSet(len=3) [underlying data type: <class 'dict'>]"
      ]
     },
     "execution_count": 23,
     "metadata": {},
     "output_type": "execute_result"
    }
   ],
   "source": [
    "CutSet.from_cuts([samples[0][0], samples[0][1], samples[0][2]])"
   ]
  },
  {
   "cell_type": "code",
   "execution_count": 15,
   "metadata": {},
   "outputs": [
    {
     "data": {
      "text/plain": [
       "MonoCut(id='25d0ad5d-b5fa-4ee4-9e3d-a1130bc7e5b1', start=0, duration=14.477, channel=0, supervisions=[SupervisionSegment(id='TS3003b-0-0', recording_id='TS3003b', start=0.05, duration=14.376999999999995, channel=0, text=\"okay everybody found his place again yeah that's nice okay so this is our second meeting and uh still failing\", language='English', speaker='MTD009PM', gender='M', custom={'segment_start': 56.762, 'segment_end': 71.139}, alignment={'word': [AlignmentItem(symbol='okay', start=0.398, duration=0.3999999999999986), AlignmentItem(symbol='everybody', start=0.798, duration=0.6600000000000037), AlignmentItem(symbol='found', start=1.458, duration=0.22999999999999687), AlignmentItem(symbol='his', start=1.688, duration=0.14999999999999858), AlignmentItem(symbol='place', start=1.838, duration=0.7000000000000028), AlignmentItem(symbol='again', start=2.538, duration=0.7700000000000031), AlignmentItem(symbol='yeah', start=3.308, duration=1.2199999999999989), AlignmentItem(symbol=\"that's\", start=4.528, duration=0.259999999999998), AlignmentItem(symbol='nice', start=4.788, duration=2.200000000000003), AlignmentItem(symbol='okay', start=6.988, duration=0.35999999999999943), AlignmentItem(symbol='so', start=7.348, duration=0.8299999999999983), AlignmentItem(symbol='this', start=8.178, duration=0.21999999999999886), AlignmentItem(symbol='is', start=8.398, duration=0.09999999999999432), AlignmentItem(symbol='our', start=8.498, duration=0.07000000000000739), AlignmentItem(symbol='second', start=8.568, duration=0.3400000000000034), AlignmentItem(symbol='meeting', start=8.908, duration=2.1499999999999915), AlignmentItem(symbol='and', start=11.058, duration=0.5499999999999972), AlignmentItem(symbol='uh', start=11.608, duration=1.2600000000000051), AlignmentItem(symbol='still', start=12.868, duration=0.28000000000000114), AlignmentItem(symbol='failing', start=13.148, duration=1.1400000000000006)]})], features=None, recording=Recording(id='25d0ad5d-b5fa-4ee4-9e3d-a1130bc7e5b1', sources=[AudioSource(type='file', channels=[0], source='/store/store1/data/ami/wavs/test/25d/25d0ad5d-b5fa-4ee4-9e3d-a1130bc7e5b1.wav')], sampling_rate=16000, num_samples=231632, duration=14.477, transforms=None), custom={})"
      ]
     },
     "execution_count": 15,
     "metadata": {},
     "output_type": "execute_result"
    }
   ],
   "source": [
    "samples[0][0]"
   ]
  },
  {
   "cell_type": "code",
   "execution_count": 7,
   "metadata": {},
   "outputs": [
    {
     "data": {
      "text/plain": [
       "MixedCut(id='362e5df1-2b27-4aa1-975d-ebe42f40309d', tracks=[MixTrack(cut=MonoCut(id='45a59f94-f2d6-4518-a96e-2dda7fd452d6', start=0, duration=6.23, channel=0, supervisions=[SupervisionSegment(id='TS3003b-0-1_0', recording_id='TS3003b', start=0.05, duration=6.1299999999999955, channel=0, text=\"uh now we're going um into the functional design um\", language='English', speaker='MTD009PM', gender='M', custom={'segment_start': 72.76, 'segment_end': 78.89}, alignment={'word': [AlignmentItem(symbol='uh', start=0.05, duration=0.28999999999999204), AlignmentItem(symbol='now', start=0.34, duration=0.21000000000000796), AlignmentItem(symbol=\"we're\", start=0.55, duration=0.1599999999999966), AlignmentItem(symbol='going', start=0.71, duration=0.46999999999999886), AlignmentItem(symbol='um', start=1.18, duration=1.0400000000000063), AlignmentItem(symbol='into', start=2.22, duration=0.29999999999999716), AlignmentItem(symbol='the', start=2.52, duration=0.0899999999999892), AlignmentItem(symbol='functional', start=2.61, duration=0.46000000000000796), AlignmentItem(symbol='design', start=3.07, duration=1.480000000000004), AlignmentItem(symbol='um', start=4.55, duration=1.6299999999999955)]})], features=None, recording=Recording(id='45a59f94-f2d6-4518-a96e-2dda7fd452d6', sources=[AudioSource(type='file', channels=[0], source='/store/store1/data/ami/wavs/test/45a/45a59f94-f2d6-4518-a96e-2dda7fd452d6.wav')], sampling_rate=16000, num_samples=99680, duration=6.23, transforms=None), custom={}), offset=0.0, snr=None), MixTrack(cut=MonoCut(id='bca4072b-da9d-42db-85f0-79de8523e4ed', start=0, duration=6.14, channel=0, supervisions=[SupervisionSegment(id='TS3003b-0-1_1', recording_id='TS3003b', start=0.05, duration=6.040000000000006, channel=0, text=\"important thing of this phase is that we're going to uh try to\", language='English', speaker='MTD009PM', gender='M', custom={'segment_start': 78.89, 'segment_end': 84.93}, alignment={'word': [AlignmentItem(symbol='important', start=0.05, duration=0.5300000000000011), AlignmentItem(symbol='thing', start=0.58, duration=0.29999999999999716), AlignmentItem(symbol='of', start=0.88, duration=0.12000000000000455), AlignmentItem(symbol='this', start=1.0, duration=0.14999999999999147), AlignmentItem(symbol='phase', start=1.15, duration=0.4100000000000108), AlignmentItem(symbol='is', start=1.56, duration=0.14000000000000057), AlignmentItem(symbol='that', start=1.7, duration=0.20999999999999375), AlignmentItem(symbol=\"we're\", start=1.91, duration=0.1700000000000017), AlignmentItem(symbol='going', start=2.08, duration=0.28000000000000114), AlignmentItem(symbol='to', start=2.36, duration=1.519999999999996), AlignmentItem(symbol='uh', start=3.88, duration=1.730000000000004), AlignmentItem(symbol='try', start=5.61, duration=0.3199999999999932), AlignmentItem(symbol='to', start=5.93, duration=0.1600000000000108)]})], features=None, recording=Recording(id='bca4072b-da9d-42db-85f0-79de8523e4ed', sources=[AudioSource(type='file', channels=[0], source='/store/store1/data/ami/wavs/test/bca/bca4072b-da9d-42db-85f0-79de8523e4ed.wav')], sampling_rate=16000, num_samples=98240, duration=6.14, transforms=None), custom={}), offset=6.23, snr=None)])"
      ]
     },
     "execution_count": 7,
     "metadata": {},
     "output_type": "execute_result"
    }
   ],
   "source": [
    "samples[0][3].append(samples[0][4])"
   ]
  },
  {
   "cell_type": "code",
   "execution_count": 8,
   "metadata": {},
   "outputs": [
    {
     "data": {
      "text/plain": [
       "CutSet(len=21) [underlying data type: <class 'dict'>]"
      ]
     },
     "execution_count": 8,
     "metadata": {},
     "output_type": "execute_result"
    }
   ],
   "source": [
    "samples[0]"
   ]
  },
  {
   "cell_type": "code",
   "execution_count": 32,
   "metadata": {},
   "outputs": [],
   "source": [
    "import lhotse\n",
    "from lhotse.dataset.cut_transforms import concatenate"
   ]
  },
  {
   "cell_type": "code",
   "execution_count": 10,
   "metadata": {},
   "outputs": [],
   "source": [
    "from importlib import reload as rl"
   ]
  },
  {
   "cell_type": "code",
   "execution_count": 33,
   "metadata": {},
   "outputs": [
    {
     "data": {
      "text/plain": [
       "<module 'lhotse.dataset.cut_transforms.concatenate' from '/exp/exp1/acp21rjf/lhotse/lhotse/dataset/cut_transforms/concatenate.py'>"
      ]
     },
     "execution_count": 33,
     "metadata": {},
     "output_type": "execute_result"
    }
   ],
   "source": [
    "rl(concatenate)"
   ]
  },
  {
   "cell_type": "code",
   "execution_count": 21,
   "metadata": {},
   "outputs": [
    {
     "data": {
      "text/plain": [
       "<function lhotse.dataset.cut_transforms.concatenate.plain_concat(cuts: Sequence[lhotse.cut.Cut], gap: float = 1.0) -> lhotse.cut.CutSet>"
      ]
     },
     "execution_count": 21,
     "metadata": {},
     "output_type": "execute_result"
    }
   ],
   "source": [
    "lhotse.dataset.cut_transforms.plain_concat"
   ]
  },
  {
   "cell_type": "code",
   "execution_count": 52,
   "metadata": {},
   "outputs": [
    {
     "data": {
      "text/plain": [
       "\"okay everybody found his place again yeah that's nice okay so this is our second meeting and uh still failing -- yes -- yeah -- uh now we're going um into the functional design um -- important thing of this phase is that we're going to uh try to -- get an agreement about the user requirements technical function design and -- the working design -- so that we can move onto the second uh phase but first this phase -- um first an announcement there's a little adaptation in the air conditioning -- system so --  -- there's our ghost mouse again that that means that you can have a little trouble with little trouble with the air conditioning that's because of this uh -- okay -- okay -- it's in wing c and e so it should be over in a in a while couple of days -- but it's going to be cold anyway so i don't think you're gonna need it then --  -- no -- our agenda now first the opening uh this time i will take the minutes -- uh you're going to have a presentation all of you um -- and we've got forty minutes for the whole uh prese for the whole uh presentations\""
      ]
     },
     "execution_count": 52,
     "metadata": {},
     "output_type": "execute_result"
    }
   ],
   "source": [
    "\" -- \".join([el.supervisions[0].text for el in samples[0]])"
   ]
  },
  {
   "cell_type": "code",
   "execution_count": 57,
   "metadata": {},
   "outputs": [
    {
     "data": {
      "text/plain": [
       "\"okay everybody found his place again yeah that's nice okay so this is our second meeting and uh still failing yes yeah uh now we're going um into the functional design um important thing of this phase is that we're going to uh try to get an agreement about the user requirements technical function design and the working design so that we can move onto the second uh phase but first this phase um first an announcement there's a little adaptation in the air conditioning system so  there's our ghost mouse again that that means that you can have a little trouble with little trouble with the air conditioning that's because of this uh okay okay it's in wing c and e so it should be over in a in a while couple of days but it's going to be cold anyway so i don't think you're gonna need it then  no our agenda now first the opening uh this time i will take the minutes uh you're going to have a presentation all of you um and we've got forty minutes for the whole uh prese for the whole uh presentations\""
      ]
     },
     "execution_count": 57,
     "metadata": {},
     "output_type": "execute_result"
    }
   ],
   "source": [
    "\" \".join([el.text for el in concatenate.plain_concat(samples[0], gap=0.2)[0].supervisions])"
   ]
  },
  {
   "cell_type": "code",
   "execution_count": 19,
   "metadata": {},
   "outputs": [],
   "source": [
    "dl = niiddl.get_eval_dataloader(corpus['test'], max_sample_size=3, allowed_range=1, batch_size=15, concat_samples=True)"
   ]
  },
  {
   "cell_type": "code",
   "execution_count": 20,
   "metadata": {},
   "outputs": [
    {
     "name": "stderr",
     "output_type": "stream",
     "text": [
      "100%|██████████| 276/276 [00:12<00:00, 21.60it/s]"
     ]
    },
    {
     "name": "stdout",
     "output_type": "stream",
     "text": [
      "average length (seconds) 8.653121896608853\n"
     ]
    },
    {
     "name": "stderr",
     "output_type": "stream",
     "text": [
      "\n"
     ]
    }
   ],
   "source": [
    "utt_lens = []\n",
    "for i in tqdm(dl):\n",
    "    sample = i\n",
    "    utt_lens += (sample['audio_lens'] / (16000)).tolist()\n",
    "utt_lens = np.array(utt_lens)\n",
    "print('average length (seconds)', utt_lens.mean())"
   ]
  },
  {
   "cell_type": "code",
   "execution_count": 21,
   "metadata": {},
   "outputs": [
    {
     "data": {
      "text/plain": [
       "2.466783901970062"
      ]
     },
     "execution_count": 21,
     "metadata": {},
     "output_type": "execute_result"
    }
   ],
   "source": [
    "8.653121896608853/3.5078556697642465"
   ]
  },
  {
   "cell_type": "code",
   "execution_count": 49,
   "metadata": {},
   "outputs": [
    {
     "data": {
      "text/plain": [
       "590"
      ]
     },
     "execution_count": 49,
     "metadata": {},
     "output_type": "execute_result"
    }
   ],
   "source": [
    "utt_lens.shape[0]//2"
   ]
  },
  {
   "cell_type": "code",
   "execution_count": 64,
   "metadata": {},
   "outputs": [
    {
     "data": {
      "text/plain": [
       "15.715999603271484"
      ]
     },
     "execution_count": 64,
     "metadata": {},
     "output_type": "execute_result"
    }
   ],
   "source": [
    "sorted(utt_lens)[int(utt_lens.shape[0]*0.05)    ]"
   ]
  },
  {
   "cell_type": "code",
   "execution_count": 10,
   "metadata": {},
   "outputs": [],
   "source": [
    "dl = niiddl.get_eval_dataloader(corpus['test'], max_sample_size=60, allowed_range=1, batch_size=30)"
   ]
  },
  {
   "cell_type": "code",
   "execution_count": 12,
   "metadata": {},
   "outputs": [],
   "source": [
    "for i in dl:\n",
    "    sample = i\n",
    "    break"
   ]
  },
  {
   "cell_type": "code",
   "execution_count": 15,
   "metadata": {},
   "outputs": [],
   "source": [
    "class padding_manager():\n",
    "    def __init__(self, sub_batch_sizes):\n",
    "        self.sb_indices = None\n",
    "        self.sb_masks = None\n",
    "        self.revert_indices = None\n",
    "        self.sub_batch_sizes = sub_batch_sizes\n",
    "\n",
    "        self.ds_lengths = None\n",
    "        self.ds_total_sb_lengths = None\n",
    "        self.max_ds_total_sb_lengths = None\n",
    "      \n",
    "    def convert_to_subbatches(self, ds, ds_lengths):\n",
    "        self.ds_lengths = ds_lengths\n",
    "        b, t, d, sub_batch_sizes = *ds.shape, self.sub_batch_sizes\n",
    "        flat_sequences = rearrange(ds, 'b t d -> (b t) d')\n",
    "        padding_index = torch.zeros(1, d).to(ds.device)\n",
    "        flat_sequence_with_padding_index = torch.cat([flat_sequences, padding_index], dim=0)\n",
    "\n",
    "        if self.sb_indices != None: # if cached then don't recompute\n",
    "            return flat_sequence_with_padding_index[self.sb_indices], self.sb_masks\n",
    "\n",
    "        #ds_sb_lengths = torch.split(ds_lengths, sub_batch_sizes.tolist()) # list of utterance lengths within each sub-batch\n",
    "        max_ds_lengths = torch.full((b,), ds_lengths.max(), dtype=torch.long, device=ds.device) # max length of utterance in each sub-batch i.e with the padding\n",
    "        culm_max_ds_lengths = torch.cumsum(max_ds_lengths, dim=0) # culmulative sum of max lengths of utterances in each sub-batch\n",
    "        culm_max_ds_lengths_start = culm_max_ds_lengths - ds_lengths.max() # start of each utterance in the flat sequence\n",
    "        # split these into sub-batches\n",
    "        culm_max_ds_lengths_start_sb = torch.split(culm_max_ds_lengths_start, sub_batch_sizes.tolist()) # list of start indices of each utterance in each sub-batch within the flat sequence\n",
    "        culm_ds_lengths_end_sb = torch.split(culm_max_ds_lengths_start + ds_lengths, sub_batch_sizes.tolist()) # list of end indices of each utterance in each sub-batch within the flat sequence\n",
    "        ds_total_sb_lengths = [el.sum().item() for el in torch.split(ds_lengths, sub_batch_sizes.tolist())] # list of total lengths of each sub-batch\n",
    "        self.ds_total_sb_lengths = ds_total_sb_lengths\n",
    "        max_ds_total_sb_lengths = max(ds_total_sb_lengths) # max total length of all sub-batches\n",
    "        self.max_ds_total_sb_lengths = max_ds_total_sb_lengths\n",
    "        # now get the indices\n",
    "        all_sb_indices = []\n",
    "        all_sb_pad_masks = []\n",
    "        for culm_max_ds_length_start_sb, culm_ds_length_end_sb in zip(culm_max_ds_lengths_start_sb, culm_ds_lengths_end_sb):\n",
    "            sb_indices = []\n",
    "            for start, end in zip(culm_max_ds_length_start_sb, culm_ds_length_end_sb):\n",
    "                sb_indices.append(torch.arange(start, end))\n",
    "            sb_indices = torch.cat(sb_indices)\n",
    "            diff_from_max_length = max_ds_total_sb_lengths - sb_indices.shape[0]\n",
    "            # pad with -1 which will be used to grab the padding from the flat sequence\n",
    "            sb_indices = torch.cat([sb_indices, torch.full((diff_from_max_length,), -1, dtype=torch.long)])\n",
    "            cur_pad_mask = torch.zeros(sb_indices.shape[0], dtype=torch.bool) # create a mask for the padding\n",
    "            cur_pad_mask[sb_indices == -1] = True # set the padding mask to True where the padding is ;)\n",
    "            all_sb_pad_masks.append(cur_pad_mask)\n",
    "            all_sb_indices.append(sb_indices)\n",
    "        all_sb_pad_masks = torch.stack(all_sb_pad_masks)\n",
    "        all_sb_indices = torch.stack(all_sb_indices)\n",
    "        # okay now we have the indices, we can grab the flat sequences\n",
    "        all_sb_pad_masks = all_sb_pad_masks.to(ds.device)\n",
    "        self.sb_indices = all_sb_indices\n",
    "        self.sb_masks = all_sb_pad_masks\n",
    "        \n",
    "        return flat_sequence_with_padding_index[all_sb_indices], all_sb_pad_masks\n",
    "\n",
    "\n",
    "    def revert_from_subbatches(self, ds_sb_sequences):\n",
    "        assert self.sb_indices != None, \"You need to call convert_to_subbatches first\"\n",
    "        b, t, d, sub_batch_sizes, ds_lengths, max_ds_total_sb_lengths, ds_total_sb_lengths = *ds_sb_sequences.shape, self.sub_batch_sizes, self.ds_lengths, self.max_ds_total_sb_lengths, self.ds_total_sb_lengths\n",
    "        reflat_sequences = rearrange(ds_sb_sequences, 'b t d -> (b t) d')\n",
    "        padding_index = torch.zeros(1, d).to(ds_sb_sequences.device)\n",
    "        reflat_sequence_with_padding_index = torch.cat([reflat_sequences, padding_index], dim=0)\n",
    "        \n",
    "        if self.revert_indices != None: # if cached then don't recompute\n",
    "            return reflat_sequence_with_padding_index[self.revert_indices]\n",
    "\n",
    "        ds_sb_lengths = torch.split(ds_lengths, sub_batch_sizes.tolist())\n",
    "        all_revert_indices = []\n",
    "        pos = 0\n",
    "\n",
    "        for ds_sb_length, ds_total_sb_length in zip(ds_sb_lengths, ds_total_sb_lengths):\n",
    "            cur_revert_indices = []\n",
    "            for utt_length in ds_sb_length:\n",
    "                cur_indices = torch.arange(pos, pos+utt_length)\n",
    "                diff_from_max_length = ds_lengths.max() - cur_indices.shape[0]\n",
    "                cur_indices = torch.cat([cur_indices, torch.full((diff_from_max_length,), -1, dtype=torch.long)])\n",
    "                cur_revert_indices.append(cur_indices)\n",
    "                pos += utt_length\n",
    "            pos += max_ds_total_sb_lengths - ds_total_sb_length\n",
    "            all_revert_indices.append(torch.stack(cur_revert_indices))\n",
    "        all_revert_indices = torch.cat(all_revert_indices)\n",
    "\n",
    "        self.revert_indices = all_revert_indices\n",
    "        return reflat_sequence_with_padding_index[all_revert_indices]"
   ]
  },
  {
   "cell_type": "code",
   "execution_count": 28,
   "metadata": {},
   "outputs": [],
   "source": [
    "def printstuff(*args):\n",
    "    for i, arg in enumerate(args):\n",
    "        print(f'{i}\\n{arg}')"
   ]
  },
  {
   "cell_type": "code",
   "execution_count": 33,
   "metadata": {},
   "outputs": [
    {
     "name": "stdout",
     "output_type": "stream",
     "text": [
      "0\n",
      "torch.Size([1929, 241328])\n",
      "1\n",
      "tensor([231632,  15072,  11296,  ...,  29920, 102240,  99680],\n",
      "       dtype=torch.int32)\n",
      "2\n",
      "tensor([68, 67, 67, 67, 67, 67, 67, 67, 64, 63, 63, 63, 63, 63, 64, 63, 63, 63,\n",
      "        63, 63, 63, 63, 63, 63, 63, 63, 63, 63, 65, 65])\n",
      "3\n",
      "1929\n"
     ]
    }
   ],
   "source": [
    "printstuff(sample['audio'].shape, sample['audio_lens'], sample['segment_lens'], sample['segment_lens'].sum())"
   ]
  },
  {
   "cell_type": "code",
   "execution_count": 30,
   "metadata": {},
   "outputs": [],
   "source": [
    "padman = padding_manager(sample['segment_lens'])"
   ]
  },
  {
   "cell_type": "code",
   "execution_count": 32,
   "metadata": {},
   "outputs": [
    {
     "data": {
      "text/plain": [
       "torch.Size([1929, 241328])"
      ]
     },
     "execution_count": 32,
     "metadata": {},
     "output_type": "execute_result"
    }
   ],
   "source": [
    "sample['audio'].shape"
   ]
  },
  {
   "cell_type": "code",
   "execution_count": 34,
   "metadata": {},
   "outputs": [],
   "source": [
    "data = sample['audio'].unsqueeze(-1)"
   ]
  },
  {
   "cell_type": "code",
   "execution_count": 35,
   "metadata": {},
   "outputs": [
    {
     "data": {
      "text/plain": [
       "torch.Size([1929, 241328, 1])"
      ]
     },
     "execution_count": 35,
     "metadata": {},
     "output_type": "execute_result"
    }
   ],
   "source": [
    "data.shape"
   ]
  },
  {
   "cell_type": "code",
   "execution_count": 49,
   "metadata": {},
   "outputs": [],
   "source": [
    "sbs, sbmasks = padman.convert_to_subbatches(data, sample['audio_lens'])\n",
    "sbs = sbs.squeeze()"
   ]
  },
  {
   "cell_type": "code",
   "execution_count": 52,
   "metadata": {},
   "outputs": [],
   "source": [
    "import soundfile as sf"
   ]
  },
  {
   "cell_type": "code",
   "execution_count": 77,
   "metadata": {},
   "outputs": [],
   "source": [
    "def save_tensor_as_wav(tensor, path, multiplier=20):\n",
    "    tensor = tensor.cpu().squeeze().numpy() * multiplier\n",
    "    sf.write(path, tensor, 16000)"
   ]
  },
  {
   "cell_type": "code",
   "execution_count": 86,
   "metadata": {},
   "outputs": [],
   "source": [
    "num = -2\n",
    "save_tensor_as_wav(sbs[num][:sbmasks[num][sbmasks[num] == False].shape[0]], 'testd.wav')"
   ]
  },
  {
   "cell_type": "code",
   "execution_count": 85,
   "metadata": {},
   "outputs": [
    {
     "data": {
      "text/plain": [
       "4537808"
      ]
     },
     "execution_count": 85,
     "metadata": {},
     "output_type": "execute_result"
    }
   ],
   "source": [
    "sbmasks[-2][sbmasks[-2] == False].shape[0]"
   ]
  },
  {
   "cell_type": "code",
   "execution_count": 79,
   "metadata": {},
   "outputs": [
    {
     "data": {
      "text/plain": [
       "tensor([68, 67, 67, 67, 67, 67, 67, 67, 64, 63, 63, 63, 63, 63, 64, 63, 63, 63,\n",
       "        63, 63, 63, 63, 63, 63, 63, 63, 63, 63, 65, 65])"
      ]
     },
     "execution_count": 79,
     "metadata": {},
     "output_type": "execute_result"
    }
   ],
   "source": [
    "sample['segment_lens']"
   ]
  },
  {
   "cell_type": "code",
   "execution_count": 76,
   "metadata": {},
   "outputs": [
    {
     "data": {
      "text/plain": [
       "\"help  --   it's up there that screen's black  --     --     --   alright okay okay that's fine  --   oh god  --   are we done  --   right okay um this is our second meeting and i might be a bit all over the place um right our agenda for today do you want us to give you a second  --     --   uh no that's okay sorry  --   okay um  --   i'll go over what we decided last meeting  --   mm hmm  --   um  --   we decided upon a universal control one handset for all t v video  --   sorry  --   equipment um that it was important that the product was accessible to a wide range  --   of consumers wide age range not limiting anyone we decided it was important  --   to reflect the company's image in our product we put fashion in electronics you know that kind of  --   s thing um our budget would have to affect um  --   try not to reflect our budget um that we might  --   have a bit of oh oh you can see it okay um dissonance between what our budget was and what we want it to look like um  --     --   want it to look uncluttered undaunting to the customer we discussed a flip open design um reducing the size of the control and an electronic panel um for further features like programming things like that  --   okay um three presentations i've got written here so  --   shall we hear from marketing first  --   um is it okay if i postpone that til later i just want to get access to a little bit more information is that okay  --   no that's fine that's fine  --   okay yeah i'll go first can i grab the  --   unplug me  --   thanks  --   what do i have to press oh f eight  --   um f n  --   function f eight  --   oh right yeah  --   okay  --   maybe  --   yep  --   yep there we go  --   okay this is uh the working design presented by me the uh industrial designer extraordinaire  --     --   'kay this is where i went a bit mad with powerpoint so what the first thing  --   question i asked was what are we trying to design well a device which basically just sends the signal  --   to the t v to change its state whether that be the power or the channel um or the volume  --   everything is just um some sort of signal to change the state of the t v or  --   other appliance that it's sending the signal to  --   um so i decided i'd have a look at what th other people have designed and try and take some inspiration from that but uh although we will want to be taking  --   ideas from other people we wanna make sure that our design stands out and i thought that was something that well it wasn't really my area because  --   i'm dealing with the inside really so um yeah i ran out of time so i couldn't do this one as  --   fun as the last one um and uh i found out that most uh controls  --     --   use some form of infrared to send signals to the t v presumably because of the cost issue of  --   uh something like uh the same thing that computers use wireless and you don't need to send very much information  --   um most of them are powered by some form of battery now our one i'm i'm  --   not sure whether we want to look at the size issue because most of them are powered by triple a batteries  --   but those can be quite bulky so i d i didn't know if you wanted to look at something else um so we could  --   shrink down the size of the control yeah sure  --   mm hmm could i can i interject to ask a question there is that appropriate you're saying the triple a batteries are small or the surrounding it  --   mm hmm  --   um no no if you if you look at if you look at most remote controls they're quite they're quite chunky and that's because of the size  --   mm hmm  --   of the batteries they have to be obviously this certain size to fit those batteries in yeah  --   right the triple a s are the smallest you can get are they not right  --   they are  --   the the well you can you can get the sort of circular round ones but i'm just wondering about power consumption and how  --  \""
      ]
     },
     "execution_count": 76,
     "metadata": {},
     "output_type": "execute_result"
    }
   ],
   "source": [
    "\" \".join([el[0] + \"  --  \" for el in sample['text'][-65*2:-65]])"
   ]
  },
  {
   "cell_type": "code",
   "execution_count": 257,
   "metadata": {},
   "outputs": [],
   "source": [
    "from tools import load_json\n",
    "from nemo.collections.asr.metrics.wer import word_error_rate"
   ]
  },
  {
   "cell_type": "code",
   "execution_count": 258,
   "metadata": {},
   "outputs": [
    {
     "name": "stdout",
     "output_type": "stream",
     "text": [
      "Hconf_sched_sccrosscontext.json  hyps.json  longcontext.json\n"
     ]
    }
   ],
   "source": [
    "!ls *.json"
   ]
  },
  {
   "cell_type": "code",
   "execution_count": 354,
   "metadata": {},
   "outputs": [],
   "source": [
    "outs = load_json('hypst.json')"
   ]
  },
  {
   "cell_type": "code",
   "execution_count": 355,
   "metadata": {},
   "outputs": [
    {
     "data": {
      "text/plain": [
       "2233"
      ]
     },
     "execution_count": 355,
     "metadata": {},
     "output_type": "execute_result"
    }
   ],
   "source": [
    "max_len"
   ]
  },
  {
   "cell_type": "code",
   "execution_count": 365,
   "metadata": {},
   "outputs": [],
   "source": [
    "interval = 20\n",
    "max_len = max([len(el) for el in outs['refs']])\n",
    "len_bins_start = [i for i in range(0, max_len, interval)]\n",
    "len_bins_end = [i for i in range(interval, max_len+interval, interval)]\n",
    "len_bins = list(zip(len_bins_start, len_bins_end))\n",
    "\n",
    "def get_bin_index(length):\n",
    "    for i, (start, end) in enumerate(len_bins):\n",
    "        if start <= length < end:\n",
    "            return i\n",
    "    return -1\n",
    "\n",
    "bin_dict = {i: {'refs': [], 'hyps': []} for i in range(len(len_bins))}\n",
    "\n",
    "for i in range(len(outs['hyps'])):\n",
    "    length = len(outs['refs'][i])\n",
    "    bin_index = get_bin_index(length)\n",
    "    bin_dict[bin_index]['refs'].append(outs['refs'][i])\n",
    "    bin_dict[bin_index]['hyps'].append(outs['hyps'][i])\n",
    "    \n",
    "for k in bin_dict.keys():\n",
    "    wer = word_error_rate(hypotheses=bin_dict[k]['hyps'], references=bin_dict[k]['refs'], use_cer=False)\n",
    "    cer = word_error_rate(hypotheses=bin_dict[k]['hyps'], references=bin_dict[k]['refs'], use_cer=True)\n",
    "    bin_dict[k]['wer'] = wer * 100\n",
    "    bin_dict[k]['cer'] = cer * 100"
   ]
  },
  {
   "cell_type": "code",
   "execution_count": 366,
   "metadata": {},
   "outputs": [
    {
     "data": {
      "text/plain": [
       "[59.6126594237128,\n",
       " 40.46830130329136,\n",
       " 35.6120826709062,\n",
       " 30.441454202077434,\n",
       " 29.35304990757856,\n",
       " 26.891813431391526,\n",
       " 28.395681646999748,\n",
       " 27.788546255506606,\n",
       " 28.856328856328854,\n",
       " 26.163328197226505,\n",
       " 26.2433267771846,\n",
       " 24.80974124809741,\n",
       " 28.129531174480427,\n",
       " 27.289719626168225,\n",
       " 28.97125567322239,\n",
       " 28.992628992628994,\n",
       " 25.238095238095237,\n",
       " 24.210526315789473,\n",
       " 26.055312954876275,\n",
       " 19.854721549636803,\n",
       " 26.34228187919463,\n",
       " 26.77165354330709,\n",
       " 18.849449204406366,\n",
       " 24.735729386892178,\n",
       " 23.809523809523807,\n",
       " 26.879699248120303,\n",
       " 19.565217391304348,\n",
       " 25.423728813559322,\n",
       " 19.91701244813278,\n",
       " inf,\n",
       " 3.418803418803419,\n",
       " 24.576271186440678,\n",
       " 24.166666666666668,\n",
       " inf,\n",
       " 18.4,\n",
       " 24.0,\n",
       " inf,\n",
       " 30.87248322147651,\n",
       " 16.587677725118482,\n",
       " inf,\n",
       " 13.88888888888889,\n",
       " inf,\n",
       " 18.06853582554517,\n",
       " inf,\n",
       " 20.588235294117645,\n",
       " inf,\n",
       " 15.341959334565619,\n",
       " inf,\n",
       " inf,\n",
       " 22.432432432432435,\n",
       " 22.22222222222222,\n",
       " inf,\n",
       " 24.056603773584907,\n",
       " 19.19191919191919,\n",
       " inf,\n",
       " inf,\n",
       " 13.24200913242009,\n",
       " inf,\n",
       " inf,\n",
       " inf,\n",
       " inf,\n",
       " inf,\n",
       " inf,\n",
       " inf,\n",
       " inf,\n",
       " inf,\n",
       " inf,\n",
       " inf,\n",
       " 23.42007434944238,\n",
       " 19.9203187250996,\n",
       " inf,\n",
       " inf,\n",
       " inf,\n",
       " inf,\n",
       " inf,\n",
       " inf,\n",
       " inf,\n",
       " 25.161290322580644,\n",
       " inf,\n",
       " inf,\n",
       " inf,\n",
       " inf,\n",
       " inf,\n",
       " inf,\n",
       " inf,\n",
       " inf,\n",
       " inf,\n",
       " inf,\n",
       " inf,\n",
       " inf,\n",
       " inf,\n",
       " inf,\n",
       " inf,\n",
       " inf,\n",
       " 19.37799043062201,\n",
       " inf,\n",
       " inf,\n",
       " inf,\n",
       " inf,\n",
       " inf,\n",
       " inf,\n",
       " inf,\n",
       " inf,\n",
       " inf,\n",
       " inf,\n",
       " inf,\n",
       " inf,\n",
       " inf,\n",
       " 10.955710955710956]"
      ]
     },
     "execution_count": 366,
     "metadata": {},
     "output_type": "execute_result"
    }
   ],
   "source": [
    "[bin_dict[i]['wer'] for i in range(len(len_bins))]"
   ]
  },
  {
   "cell_type": "code",
   "execution_count": 367,
   "metadata": {},
   "outputs": [
    {
     "data": {
      "text/plain": [
       "[2744,\n",
       " 733,\n",
       " 607,\n",
       " 585,\n",
       " 592,\n",
       " 467,\n",
       " 304,\n",
       " 187,\n",
       " 144,\n",
       " 83,\n",
       " 84,\n",
       " 56,\n",
       " 41,\n",
       " 20,\n",
       " 23,\n",
       " 13,\n",
       " 19,\n",
       " 7,\n",
       " 9,\n",
       " 5,\n",
       " 7,\n",
       " 3,\n",
       " 9,\n",
       " 5,\n",
       " 5,\n",
       " 5,\n",
       " 3,\n",
       " 1,\n",
       " 2,\n",
       " 0,\n",
       " 1,\n",
       " 2,\n",
       " 1,\n",
       " 0,\n",
       " 1,\n",
       " 1,\n",
       " 0,\n",
       " 1,\n",
       " 3,\n",
       " 0,\n",
       " 1,\n",
       " 0,\n",
       " 2,\n",
       " 0,\n",
       " 1,\n",
       " 0,\n",
       " 3,\n",
       " 0,\n",
       " 0,\n",
       " 2,\n",
       " 2,\n",
       " 0,\n",
       " 1,\n",
       " 1,\n",
       " 0,\n",
       " 0,\n",
       " 1,\n",
       " 0,\n",
       " 0,\n",
       " 0,\n",
       " 0,\n",
       " 0,\n",
       " 0,\n",
       " 0,\n",
       " 0,\n",
       " 0,\n",
       " 0,\n",
       " 0,\n",
       " 1,\n",
       " 1,\n",
       " 0,\n",
       " 0,\n",
       " 0,\n",
       " 0,\n",
       " 0,\n",
       " 0,\n",
       " 0,\n",
       " 1,\n",
       " 0,\n",
       " 0,\n",
       " 0,\n",
       " 0,\n",
       " 0,\n",
       " 0,\n",
       " 0,\n",
       " 0,\n",
       " 0,\n",
       " 0,\n",
       " 0,\n",
       " 0,\n",
       " 0,\n",
       " 0,\n",
       " 0,\n",
       " 0,\n",
       " 1,\n",
       " 0,\n",
       " 0,\n",
       " 0,\n",
       " 0,\n",
       " 0,\n",
       " 0,\n",
       " 0,\n",
       " 0,\n",
       " 0,\n",
       " 0,\n",
       " 0,\n",
       " 0,\n",
       " 0,\n",
       " 1]"
      ]
     },
     "execution_count": 367,
     "metadata": {},
     "output_type": "execute_result"
    }
   ],
   "source": [
    "bin_sizes = [len(bin_dict[i]['refs']) for i in range(len(len_bins))]\n",
    "bin_sizes"
   ]
  },
  {
   "cell_type": "code",
   "execution_count": 359,
   "metadata": {},
   "outputs": [],
   "source": [
    "from matplotlib import pyplot as plt"
   ]
  },
  {
   "cell_type": "code",
   "execution_count": 368,
   "metadata": {},
   "outputs": [
    {
     "data": {
      "image/png": "[encoded data removed]",
      "text/plain": [
       "<Figure size 432x288 with 1 Axes>"
      ]
     },
     "metadata": {
      "needs_background": "light"
     },
     "output_type": "display_data"
    }
   ],
   "source": [
    "data_wer = [bin_dict[i]['wer'] for i in range(len(len_bins))][:10]\n",
    "data_cer = [bin_dict[i]['cer'] for i in range(len(len_bins))][:10]\n",
    "keys = [f'{start}-{end}' for start, end in len_bins][:10]\n",
    "# rotation=90\n",
    "plt.plot(keys, data_wer, 'o-', label='wer')\n",
    "plt.plot(keys, data_cer, 'o-', label='cer')\n",
    "plt.xlabel('Length of reference (characters)')\n",
    "plt.ylabel('WER/CER')\n",
    "plt.title('WER vs Character Length of Reference')\n",
    "plt.legend()\n",
    "plt.show()"
   ]
  },
  {
   "cell_type": "code",
   "execution_count": 372,
   "metadata": {},
   "outputs": [],
   "source": [
    "def flatten(l):\n",
    "    return [item for sublist in l for item in sublist]"
   ]
  },
  {
   "cell_type": "code",
   "execution_count": 374,
   "metadata": {},
   "outputs": [],
   "source": [
    "outs['encoded_lens'] = flatten(outs['encoded_lens'])"
   ]
  },
  {
   "cell_type": "code",
   "execution_count": 377,
   "metadata": {},
   "outputs": [],
   "source": [
    "interval = 20\n",
    "max_len = max([el for el in outs['encoded_lens']])\n",
    "len_bins_start = [i for i in range(0, max_len, interval)]\n",
    "len_bins_end = [i for i in range(interval, max_len+interval, interval)]\n",
    "len_bins = list(zip(len_bins_start, len_bins_end))\n",
    "\n",
    "def get_bin_index(length):\n",
    "    for i, (start, end) in enumerate(len_bins):\n",
    "        if start <= length < end:\n",
    "            return i\n",
    "    return -1\n",
    "\n",
    "bin_dict = {i: {'refs': [], 'hyps': []} for i in range(len(len_bins))}\n",
    "\n",
    "for i in range(len(outs['hyps'])):\n",
    "    length = outs['encoded_lens'][i]\n",
    "    bin_index = get_bin_index(length)\n",
    "    bin_dict[bin_index]['refs'].append(outs['refs'][i])\n",
    "    bin_dict[bin_index]['hyps'].append(outs['hyps'][i])\n",
    "    \n",
    "for k in bin_dict.keys():\n",
    "    wer = word_error_rate(hypotheses=bin_dict[k]['hyps'], references=bin_dict[k]['refs'], use_cer=False)\n",
    "    cer = word_error_rate(hypotheses=bin_dict[k]['hyps'], references=bin_dict[k]['refs'], use_cer=True)\n",
    "    bin_dict[k]['wer'] = wer *100\n",
    "    bin_dict[k]['cer'] = cer *100"
   ]
  },
  {
   "cell_type": "code",
   "execution_count": 380,
   "metadata": {},
   "outputs": [
    {
     "name": "stdout",
     "output_type": "stream",
     "text": [
      "[972, 1133, 645, 455, 365, 268, 263, 659, 436, 344, 186, 156, 118, 89, 92, 78, 83, 79, 92, 38, 30, 19, 12, 16, 11, 16, 9, 12, 13, 3, 4, 1, 10, 7, 2, 3, 3, 3, 1, 3, 0, 5, 4, 1, 3, 2, 1, 4, 2, 2, 1, 0, 1, 0, 1, 0, 0, 5, 1, 1, 0, 0, 1, 1, 0, 0, 0, 0, 1, 0, 0, 0, 4, 1, 0, 0, 1, 2, 1, 0, 0, 0, 1, 0, 0, 0, 0, 1, 0, 0, 1, 3, 0, 0, 0, 1, 1, 0, 0, 0, 0, 0, 0, 2, 0, 0, 0, 1, 1, 0, 1, 0, 0, 0, 0, 1, 0, 0, 1, 0, 0, 0, 0, 0, 0, 0, 0, 0, 0, 0, 0, 0, 0, 0, 0, 0, 0, 0, 0, 0, 0, 0, 0, 0, 0, 0, 0, 0, 0, 0, 0, 0, 0, 0, 0, 0, 0, 0, 0, 0, 0, 0, 0, 0, 0, 0, 0, 0, 0, 0, 0, 0, 0, 0, 0, 0, 0, 0, 0, 0, 0, 0, 0, 0, 0, 0, 0, 0, 0, 0, 0, 0, 0, 0, 0, 0, 0, 0, 0, 0, 0, 0, 0, 0, 0, 0, 0, 0, 0, 0, 1, 0, 0, 0, 0, 0, 0, 0, 0, 0, 0, 0, 0, 0, 0, 0, 0, 0, 0, 0, 0, 0, 0, 0, 0, 0, 0, 0, 0, 0, 0, 0, 0, 0, 0, 0, 0, 1]\n",
      "[972, 1133, 645, 455, 365, 268, 263, 659, 436, 344, 186, 156, 118, 89, 92, 78, 83, 79, 92, 38]\n"
     ]
    }
   ],
   "source": [
    "bin_sizes = [len(bin_dict[i]['refs']) for i in range(len(len_bins))]\n",
    "print(bin_sizes)\n",
    "print(bin_sizes[0:20])"
   ]
  },
  {
   "cell_type": "code",
   "execution_count": 381,
   "metadata": {},
   "outputs": [
    {
     "data": {
      "image/png": "[encoded data removed]",
      "text/plain": [
       "<Figure size 432x288 with 1 Axes>"
      ]
     },
     "metadata": {
      "needs_background": "light"
     },
     "output_type": "display_data"
    }
   ],
   "source": [
    "sk = 0\n",
    "ek = 20\n",
    "data_wer = [bin_dict[i]['wer'] for i in range(len(len_bins))][sk:ek]\n",
    "data_cer = [bin_dict[i]['cer'] for i in range(len(len_bins))][sk:ek]\n",
    "keys = [f'{start}-{end}' for start, end in len_bins][sk:ek]\n",
    "# rotation=90\n",
    "plt.plot(keys, data_wer, 'o-', label='wer')\n",
    "plt.plot(keys, data_cer, 'o-', label='cer')\n",
    "plt.xlabel('Length of frames')\n",
    "plt.ylabel('WER/CER')\n",
    "plt.title('WER vs Length of Frames')\n",
    "plt.legend()\n",
    "plt.show()"
   ]
  },
  {
   "cell_type": "code",
   "execution_count": 285,
   "metadata": {},
   "outputs": [],
   "source": [
    "outs['speakers_unique'] = [len(set(el)) for el in outs['speakers']]"
   ]
  },
  {
   "cell_type": "code",
   "execution_count": 291,
   "metadata": {},
   "outputs": [],
   "source": [
    "interval = 1\n",
    "max_len = max([el for el in outs['speakers_unique']])\n",
    "\n",
    "bin_dict = {el:{'refs': [], 'hyps': []} for el in set(outs['speakers_unique'])}\n",
    "\n",
    "for i in range(len(outs['hyps'])):\n",
    "    length = outs['speakers_unique'][i]\n",
    "    bin_index = length\n",
    "    bin_dict[bin_index]['refs'].append(outs['refs'][i])\n",
    "    bin_dict[bin_index]['hyps'].append(outs['hyps'][i])\n",
    "    \n",
    "for k in bin_dict.keys():\n",
    "    wer = word_error_rate(hypotheses=bin_dict[k]['hyps'], references=bin_dict[k]['refs'], use_cer=False)\n",
    "    cer = word_error_rate(hypotheses=bin_dict[k]['hyps'], references=bin_dict[k]['refs'], use_cer=True)\n",
    "    bin_dict[k]['wer'] = wer *100\n",
    "    bin_dict[k]['cer'] = cer *100"
   ]
  },
  {
   "cell_type": "code",
   "execution_count": 292,
   "metadata": {},
   "outputs": [
    {
     "data": {
      "text/plain": [
       "[1, 2, 3, 4, 5]"
      ]
     },
     "execution_count": 292,
     "metadata": {},
     "output_type": "execute_result"
    }
   ],
   "source": [
    "sorted(list(bin_dict.keys()))"
   ]
  },
  {
   "cell_type": "code",
   "execution_count": 293,
   "metadata": {},
   "outputs": [
    {
     "data": {
      "text/plain": [
       "121"
      ]
     },
     "execution_count": 293,
     "metadata": {},
     "output_type": "execute_result"
    }
   ],
   "source": [
    "len(bin_dict[2]['refs'])"
   ]
  },
  {
   "cell_type": "code",
   "execution_count": 294,
   "metadata": {},
   "outputs": [
    {
     "data": {
      "image/png": "[encoded data removed]",
      "text/plain": [
       "<Figure size 432x288 with 1 Axes>"
      ]
     },
     "metadata": {
      "needs_background": "light"
     },
     "output_type": "display_data"
    }
   ],
   "source": [
    "data_wer = [bin_dict[i]['wer'] for i in sorted(list(bin_dict.keys()))]\n",
    "data_cer = [bin_dict[i]['cer'] for i in sorted(list(bin_dict.keys()))]\n",
    "keys = [str(key) for key in sorted(list(bin_dict.keys()))]\n",
    "# rotation=90\n",
    "plt.plot(keys, data_wer, 'o-', label='wer')\n",
    "plt.plot(keys, data_cer, 'o-', label='cer')\n",
    "plt.xlabel('Number of speakers per utterance')\n",
    "plt.ylabel('WER/CER')\n",
    "plt.title('WER vs Speakers per utterance')\n",
    "plt.legend()\n",
    "plt.show()"
   ]
  },
  {
   "cell_type": "code",
   "execution_count": 347,
   "metadata": {},
   "outputs": [
    {
     "name": "stdout",
     "output_type": "stream",
     "text": [
      "0: sample size 9 \n",
      " average speakers per utterance 3.888888888888889 \n",
      "\n",
      "median speakers per utterance 4.0 \n",
      "\n",
      "min speakers per utterance 3 \n",
      "\n",
      "max speakers per utterance 4 \n",
      "\n",
      "1: sample size 175 \n",
      " average speakers per utterance 3.8514285714285714 \n",
      "\n",
      "median speakers per utterance 4.0 \n",
      "\n",
      "min speakers per utterance 2 \n",
      "\n",
      "max speakers per utterance 5 \n",
      "\n",
      "2: sample size 580 \n",
      " average speakers per utterance 3.8689655172413793 \n",
      "\n",
      "median speakers per utterance 4.0 \n",
      "\n",
      "min speakers per utterance 2 \n",
      "\n",
      "max speakers per utterance 4 \n",
      "\n",
      "3: sample size 996 \n",
      " average speakers per utterance 3.8433734939759034 \n",
      "\n",
      "median speakers per utterance 4.0 \n",
      "\n",
      "min speakers per utterance 2 \n",
      "\n",
      "max speakers per utterance 5 \n",
      "\n",
      "4: sample size 1092 \n",
      " average speakers per utterance 3.7554945054945055 \n",
      "\n",
      "median speakers per utterance 4.0 \n",
      "\n",
      "min speakers per utterance 2 \n",
      "\n",
      "max speakers per utterance 5 \n",
      "\n",
      "5: sample size 711 \n",
      " average speakers per utterance 3.6582278481012658 \n",
      "\n",
      "median speakers per utterance 4.0 \n",
      "\n",
      "min speakers per utterance 1 \n",
      "\n",
      "max speakers per utterance 5 \n",
      "\n",
      "6: sample size 394 \n",
      " average speakers per utterance 3.436548223350254 \n",
      "\n",
      "median speakers per utterance 4.0 \n",
      "\n",
      "min speakers per utterance 1 \n",
      "\n",
      "max speakers per utterance 5 \n",
      "\n",
      "7: sample size 178 \n",
      " average speakers per utterance 3.264044943820225 \n",
      "\n",
      "median speakers per utterance 3.0 \n",
      "\n",
      "min speakers per utterance 1 \n",
      "\n",
      "max speakers per utterance 5 \n",
      "\n",
      "8: sample size 63 \n",
      " average speakers per utterance 3.0317460317460316 \n",
      "\n",
      "median speakers per utterance 3.0 \n",
      "\n",
      "min speakers per utterance 1 \n",
      "\n",
      "max speakers per utterance 4 \n",
      "\n",
      "9: sample size 22 \n",
      " average speakers per utterance 2.6818181818181817 \n",
      "\n",
      "median speakers per utterance 3.0 \n",
      "\n",
      "min speakers per utterance 1 \n",
      "\n",
      "max speakers per utterance 4 \n",
      "\n",
      "10: sample size 8 \n",
      " average speakers per utterance 2.75 \n",
      "\n",
      "median speakers per utterance 3.0 \n",
      "\n",
      "min speakers per utterance 2 \n",
      "\n",
      "max speakers per utterance 3 \n",
      "\n",
      "11: sample size 2 \n",
      " average speakers per utterance 2.5 \n",
      "\n",
      "median speakers per utterance 2.5 \n",
      "\n",
      "min speakers per utterance 2 \n",
      "\n",
      "max speakers per utterance 3 \n",
      "\n"
     ]
    }
   ],
   "source": [
    "interval = 200\n",
    "max_len = max([len(el) for el in outs['refs']])\n",
    "len_bins_start = [i for i in range(0, max_len, interval)]\n",
    "len_bins_end = [i for i in range(interval, max_len+interval, interval)]\n",
    "len_bins = list(zip(len_bins_start, len_bins_end))\n",
    "\n",
    "def get_bin_index(length):\n",
    "    for i, (start, end) in enumerate(len_bins):\n",
    "        if start <= length < end:\n",
    "            return i\n",
    "    return -1\n",
    "\n",
    "bin_dict = {i: [] for i in range(len(len_bins))}\n",
    "\n",
    "for i in range(len(outs['hyps'])):\n",
    "    length = len(outs['refs'][i])\n",
    "    bin_index = get_bin_index(length)\n",
    "    bin_dict[bin_index].append(outs['speakers_unique'][i])\n",
    "    \n",
    "for k in bin_dict.keys():\n",
    "    print(f'{k}: sample size {len(bin_dict[k])} \\n average speakers per utterance {np.mean(bin_dict[k])} \\n')\n",
    "    print(f'median speakers per utterance {np.median(bin_dict[k])} \\n')\n",
    "    print(f'min speakers per utterance {np.min(bin_dict[k])} \\n')\n",
    "    print(f'max speakers per utterance {np.max(bin_dict[k])} \\n')"
   ]
  },
  {
   "cell_type": "code",
   "execution_count": 341,
   "metadata": {},
   "outputs": [
    {
     "data": {
      "text/plain": [
       "(1000, 1200)"
      ]
     },
     "execution_count": 341,
     "metadata": {},
     "output_type": "execute_result"
    }
   ],
   "source": [
    "len_bins[5]"
   ]
  },
  {
   "cell_type": "code",
   "execution_count": 342,
   "metadata": {},
   "outputs": [
    {
     "data": {
      "text/plain": [
       "3.6582278481012658"
      ]
     },
     "execution_count": 342,
     "metadata": {},
     "output_type": "execute_result"
    }
   ],
   "source": [
    "bin_dict[5]"
   ]
  },
  {
   "cell_type": "code",
   "execution_count": 353,
   "metadata": {},
   "outputs": [
    {
     "data": {
      "image/png": "[encoded data removed]",
      "text/plain": [
       "<Figure size 432x288 with 1 Axes>"
      ]
     },
     "metadata": {
      "needs_background": "light"
     },
     "output_type": "display_data"
    }
   ],
   "source": [
    "\n",
    "\n",
    "keys = [f'{start}-{end}' for start, end in len_bins]\n",
    "# rotation=90\n",
    "plt.plot(keys, [np.array(bin_dict[i]).mean() for i in sorted(list(bin_dict.keys()))], 'o-', label='mean')\n",
    "plt.plot(keys, [np.array(bin_dict[i]).std() for i in sorted(list(bin_dict.keys()))], 'o-', label='std')\n",
    "plt.plot(keys, [np.array(bin_dict[i]).max() for i in sorted(list(bin_dict.keys()))], 'o-', label='max')\n",
    "plt.plot(keys, [np.array(bin_dict[i]).min() for i in sorted(list(bin_dict.keys()))], 'o-', label='min')\n",
    "plt.plot(keys, [np.median(np.array(bin_dict[i])) for i in sorted(list(bin_dict.keys()))], 'o-', label='median')\n",
    "plt.xlabel('Number of speakers per utterance')\n",
    "plt.title('WER vs Speakers per utterance')\n",
    "plt.legend()\n",
    "plt.show()"
   ]
  },
  {
   "cell_type": "code",
   "execution_count": null,
   "metadata": {},
   "outputs": [],
   "source": []
  }
 ],
 "metadata": {
  "kernelspec": {
   "display_name": "Python 3.8.13 ('k2_custom-nemo')",
   "language": "python",
   "name": "python3"
  },
  "language_info": {
   "codemirror_mode": {
    "name": "ipython",
    "version": 3
   },
   "file_extension": ".py",
   "mimetype": "text/x-python",
   "name": "python",
   "nbconvert_exporter": "python",
   "pygments_lexer": "ipython3",
   "version": "3.8.13"
  },
  "orig_nbformat": 4,
  "vscode": {
   "interpreter": {
    "hash": "c94c8ffa67fdebd9384b5746b8c4850bc2cec88ff489992126dcd0aca228c275"
   }
  }
 },
 "nbformat": 4,
 "nbformat_minor": 2
}
